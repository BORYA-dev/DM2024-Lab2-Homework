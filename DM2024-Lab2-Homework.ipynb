{
  "cells": [
    {
      "cell_type": "markdown",
      "metadata": {
        "id": "a2IEN4R5eIpV"
      },
      "source": [
        "### Student Information\n",
        "Name:  李博業\n",
        "\n",
        "Student ID: 410978058\n",
        "\n",
        "GitHub ID: BORYA-dev\n",
        "\n",
        "Kaggle name:\n",
        "\n",
        "Kaggle private scoreboard snapshot:"
      ]
    },
    {
      "cell_type": "markdown",
      "metadata": {
        "id": "Axp8m_GOeIpY"
      },
      "source": [
        "---"
      ]
    },
    {
      "cell_type": "markdown",
      "metadata": {
        "id": "BPFyVCS4eIpZ"
      },
      "source": [
        "### Instructions"
      ]
    },
    {
      "cell_type": "markdown",
      "metadata": {
        "id": "DvvJToPSeIpZ"
      },
      "source": [
        "1. First: __This part is worth 30% of your grade.__ Do the **take home exercises** in the [DM2024-Lab2-master Repo](https://github.com/didiersalazar/DM2024-Lab2-Master). You may need to copy some cells from the Lab notebook to this notebook.\n",
        "\n",
        "\n",
        "2. Second: __This part is worth 30% of your grade.__ Participate in the in-class [Kaggle Competition](https://www.kaggle.com/competitions/dm-2024-isa-5810-lab-2-homework) regarding Emotion Recognition on Twitter by this link: https://www.kaggle.com/competitions/dm-2024-isa-5810-lab-2-homework. The scoring will be given according to your place in the Private Leaderboard ranking:\n",
        "    - **Bottom 40%**: Get 20% of the 30% available for this section.\n",
        "\n",
        "    - **Top 41% - 100%**: Get (0.6N + 1 - x) / (0.6N) * 10 + 20 points, where N is the total number of participants, and x is your rank. (ie. If there are 100 participants and you rank 3rd your score will be (0.6 * 100 + 1 - 3) / (0.6 * 100) * 10 + 20 = 29.67% out of 30%.)   \n",
        "    Submit your last submission **BEFORE the deadline (Nov. 26th, 11:59 pm, Tuesday)**. Make sure to take a screenshot of your position at the end of the competition and store it as '''pic0.png''' under the **img** folder of this repository and rerun the cell **Student Information**.\n",
        "    \n",
        "\n",
        "3. Third: __This part is worth 30% of your grade.__ A report of your work developing the model for the competition (You can use code and comment on it). This report should include what your preprocessing steps, the feature engineering steps and an explanation of your model. You can also mention different things you tried and insights you gained.\n",
        "\n",
        "\n",
        "4. Fourth: __This part is worth 10% of your grade.__ It's hard for us to follow if your code is messy :'(, so please **tidy up your notebook**.\n",
        "\n",
        "\n",
        "Upload your files to your repository then submit the link to it on the corresponding e-learn assignment.\n",
        "\n",
        "Make sure to commit and save your changes to your repository __BEFORE the deadline (Nov. 26th, 11:59 pm, Tuesday)__."
      ]
    },
    {
      "cell_type": "markdown",
      "source": [
        "- emotion\n",
        "  - The emotion(answer) of data\n",
        "    - sadness\n",
        "    - disgust\n",
        "    - anticipation\n",
        "    - joy\n",
        "    - trust\n",
        "    - anger\n",
        "    - fear\n",
        "    - surprise\n",
        "\n",
        "- data_identification :\n",
        "  - identify the id is train or test\n",
        "  \n",
        "- tweets_DM.json : Main Data\n",
        "  - type : list\n",
        "  - length = 1867535\n",
        "  - record :\n",
        "    {\n",
        "    '_score': 391,\n",
        "    '_index': 'hashtag_tweets',\n",
        "    '_source': {'tweet': {'hashtags': ['Snapchat'],\n",
        "      'tweet_id': '0x376b20',\n",
        "      'text': 'People who post \"add me on #Snapchat\" must be dehydrated. Cuz man.... that\\'s <LH>'}},\n",
        "    '_crawldate': '2015-05-23 11:42:47',\n",
        "    '_type': 'tweets'\n",
        "    }"
      ],
      "metadata": {
        "id": "cpnJO_hwi94i"
      }
    },
    {
      "cell_type": "code",
      "source": [
        "import pandas as pd\n",
        "import json\n",
        "from sklearn.model_selection import train_test_split\n",
        "\n",
        "import nltk\n",
        "import re\n",
        "import stringprep\n",
        "nltk.download('punkt_tab')\n",
        "# nltk.download('wordnet')\n",
        "\n",
        "import pickle\n",
        "\n",
        "from sklearn.ensemble import RandomForestClassifier\n",
        "from sklearn.feature_extraction.text import TfidfVectorizer\n",
        "\n",
        "\n",
        "from sklearn.metrics import accuracy_score"
      ],
      "metadata": {
        "colab": {
          "base_uri": "https://localhost:8080/"
        },
        "id": "EjzwLlJkcxuz",
        "outputId": "9c3a622c-0457-4752-9a15-1c8641abfd9e"
      },
      "execution_count": 31,
      "outputs": [
        {
          "output_type": "stream",
          "name": "stderr",
          "text": [
            "[nltk_data] Downloading package punkt_tab to /root/nltk_data...\n",
            "[nltk_data]   Package punkt_tab is already up-to-date!\n"
          ]
        }
      ]
    },
    {
      "cell_type": "code",
      "source": [
        "from google.colab import drive\n",
        "drive.mount(\"/content/drive\", force_remount=True)"
      ],
      "metadata": {
        "colab": {
          "base_uri": "https://localhost:8080/"
        },
        "id": "bXFjgQW9emYd",
        "outputId": "0f0067c3-f75f-4d86-9d34-15e83f199508"
      },
      "execution_count": 1,
      "outputs": [
        {
          "output_type": "stream",
          "name": "stdout",
          "text": [
            "Mounted at /content/drive\n"
          ]
        }
      ]
    },
    {
      "cell_type": "markdown",
      "source": [
        "- Prepare Data"
      ],
      "metadata": {
        "id": "-yEXg33dfgcK"
      }
    },
    {
      "cell_type": "code",
      "execution_count": 3,
      "metadata": {
        "id": "dK2s-26ceIpa"
      },
      "outputs": [],
      "source": [
        "### Begin Assignment Here\n",
        "\n",
        "### 準備資料\n",
        "\n",
        "file_path = '/content/drive/MyDrive/Data_Lab2_HW/tweets_DM.json'\n",
        "\n",
        "data = []\n",
        "\n",
        "with open(file_path, 'r', encoding='utf-8') as file:\n",
        "    for line_number, line in enumerate(file, start=1):\n",
        "        try:\n",
        "            data.append(json.loads(line))\n",
        "        except json.JSONDecodeError as e:\n",
        "            print(f\"Error in line {line_number}: {e}\")\n",
        "\n",
        "\n",
        "emotion_data = pd.read_csv('/content/drive/MyDrive/Data_Lab2_HW/emotion.csv')\n",
        "data_id = pd.read_csv('/content/drive/MyDrive/Data_Lab2_HW/data_identification.csv')\n",
        "\n",
        "# 生成DataFrame\n",
        "temp = []\n",
        "for sub_d in data:\n",
        "  temp.append(sub_d['_source']['tweet'])\n",
        "data_df = pd.DataFrame(temp)\n",
        "\n",
        "# 排序left join\n",
        "data_df.sort_values(\"tweet_id\",ignore_index = True, inplace = True)\n",
        "emotion_data.sort_values(\"tweet_id\",ignore_index = True, inplace = True)\n",
        "data_id.sort_values(\"tweet_id\",ignore_index = True, inplace = True)\n",
        "\n",
        "\n",
        "# left_join raw data and emotion_data\n",
        "data_df = pd.merge(left=data_df, right=emotion_data, how=\"left\", on =\"tweet_id\")\n",
        "data_df = pd.merge(left=data_df, right=data_id, how=\"left\", on =\"tweet_id\")\n",
        "\n",
        "data_df.head(5)"
      ]
    },
    {
      "cell_type": "code",
      "source": [
        "# 訓練集、測試集\n",
        "training_data = data_df.query(\"identification == 'train'\").reset_index(drop =True)\n",
        "testing_data = data_df.query(\"identification == 'test'\").reset_index(drop =True)"
      ],
      "metadata": {
        "id": "kXHqPi3mfp9f"
      },
      "execution_count": null,
      "outputs": []
    },
    {
      "cell_type": "code",
      "source": [
        "# 訓練集抽樣\n",
        "\n",
        "train_data_sample = training_data.sample(frac=0.3, random_state=20)\n",
        "train_data_sample = train_data_sample.reset_index(drop=True)\n",
        "x_train = train_data_sample.drop(columns = [\"emotion\", \"identification\"])\n",
        "y_train = train_data_sample.emotion\n",
        "\n",
        "# 分層抽樣\n",
        "# Strafied sampling\n",
        "x_train, x_test, y_train, y_test = train_test_split(\n",
        "    x_train, y_train, test_size=0.2, random_state=20, stratify=y_train\n",
        ")\n",
        "\n",
        "x_train.reset_index(drop=True, inplace = True)\n",
        "y_train.reset_index(drop=True, inplace = True)"
      ],
      "metadata": {
        "id": "WqXpPHlTfpGN"
      },
      "execution_count": null,
      "outputs": []
    },
    {
      "cell_type": "markdown",
      "source": [
        "- Pre-processing"
      ],
      "metadata": {
        "id": "4ZjClEiAeKug"
      }
    },
    {
      "cell_type": "code",
      "source": [
        "emoji_dict = {\n",
        "    '😂': '[joy]',\n",
        "    '❤️': '[love]',\n",
        "    '😍': '[adoration]',\n",
        "    '😭': '[cry]',\n",
        "    '❤': '[care]',\n",
        "    '😊': '[happy]',\n",
        "    '🙏': '[pray]',\n",
        "    '😘': '[kiss]',\n",
        "    '💕': '[love_each_other]',\n",
        "    '🔥': '[fire]',\n",
        "    '😩': '[weary]',\n",
        "    '🤔': '[think]',\n",
        "    '💯': '[perfect]',\n",
        "    '💙': '[loyalty]',\n",
        "    '🙄': '[annoyed]',\n",
        "    '😁': '[happy]',\n",
        "    '🙌': '[celebrate]',\n",
        "    '🙏🏾': '[pray]',\n",
        "    '👍': '[approve]',\n",
        "    '🙏🏽': '[pray]',\n",
        "    '♡':'[love]',\n",
        "    '🕘':'[time]',\n",
        "    '🙋':'[hi]'\n",
        "}"
      ],
      "metadata": {
        "id": "k9hbD6OueJuh"
      },
      "execution_count": 6,
      "outputs": []
    },
    {
      "cell_type": "code",
      "source": [
        "def cleaning(text):\n",
        "    text = re.sub(r'[@#$%^&*()_+{}[\\]:;\"\\'<>,.~\\\\/\\-|=]', '', text)\n",
        "\n",
        "    # remove some common words\n",
        "    text = re.sub(r'\\b(?:and|is|in|the|on|of|to|for)\\b', '', text, flags=re.IGNORECASE)\n",
        "    # remove numbers\n",
        "    text = re.sub(r'\\b\\d+\\b', '', text)\n",
        "    # remove blank space\n",
        "    text = re.sub(r'\\s+', ' ', text).strip() # \\s+ 一個或多個空白字符\n",
        "    # remove links\n",
        "    text = re.sub('((www.[^s]+)|(https?://[^s]+))',' ',text)\n",
        "    return text\n",
        "\n",
        "\n",
        "# emoji\n",
        "def trans_emoji(text):\n",
        "  for key, value in emoji_dict.items():\n",
        "    text = text.replace(key, value)\n",
        "  return text\n",
        "\n",
        "# Stemming\n",
        "# st = nltk.PorterStemmer()\n",
        "\n",
        "# def stemming_on_text(data):\n",
        "#     '''\n",
        "#     input should be tokenized words : list\n",
        "#     '''\n",
        "#     text = [st.stem(word) for word in data]\n",
        "#     return text\n",
        "\n",
        "# # Lemmatization\n",
        "# lm = nltk.WordNetLemmatizer()\n",
        "# def lemmatizer_on_text(data):\n",
        "#     text = [lm.lemmatize(word) for word in data]\n",
        "#     return text\n",
        "\n",
        "\n",
        "def pre_processing(data):\n",
        "\n",
        "  '''\n",
        "  data:DataFrame with text\n",
        "  '''\n",
        "\n",
        "  dataset = data['text']\n",
        "\n",
        "  # 轉小寫\n",
        "  dataset = dataset.apply(lambda text: text.lower().strip())\n",
        "\n",
        "  # 移除 removing\n",
        "  dataset = dataset.apply(lambda x: x.replace(\"<lh>\",\"\"))\n",
        "  dataset = dataset.apply(lambda x: x.replace(\"<LH>\",\"\"))\n",
        "  dataset = dataset.apply(lambda x: x.replace(\"#\",\"\"))\n",
        "\n",
        "  # change emoji\n",
        "  dataset = dataset.apply(lambda x: trans_emoji(x) )\n",
        "\n",
        "  # cleaning some words\n",
        "  dataset = dataset.apply(lambda x: cleaning(x) )\n",
        "\n",
        "  dataset = dataset.apply(lambda x: x.replace(\"#\",\"\"))\n",
        "\n",
        "  dataset.name = \"pre_processing_text\"\n",
        "\n",
        "  tt = dataset.apply(lambda x: nltk.word_tokenize(x))\n",
        "  tt.name = \"tokens\"\n",
        "\n",
        "  pre_df = pd.concat([dataset,pd.DataFrame(tt)], axis=1)\n",
        "\n",
        "  return pre_df"
      ],
      "metadata": {
        "id": "I2-PzQJkheau"
      },
      "execution_count": 27,
      "outputs": []
    },
    {
      "cell_type": "code",
      "source": [
        "# Combine tje columns with pro-processing & original text\n",
        "\n",
        "x_train = pd.concat([x_train, pre_processing(x_train)], axis=1)\n",
        "x_train.reset_index(drop=True, inplace=True)\n",
        "\n",
        "x_test = pd.concat([x_test, pre_processing(x_test)], axis=1)\n",
        "x_test.reset_index(drop=True, inplace=True)\n",
        "\n",
        "testing_data = pd.concat([testing_data, pre_processing(testing_data)], axis=1)\n",
        "testing_data.reset_index(drop=True, inplace=True)"
      ],
      "metadata": {
        "id": "yi7qO8rChan2"
      },
      "execution_count": 28,
      "outputs": []
    },
    {
      "cell_type": "code",
      "source": [
        "x_train.head(5)"
      ],
      "metadata": {
        "id": "AKf7eT5bkIt4",
        "outputId": "1e0a5973-f94f-4a4b-85ea-8a7fe396e577",
        "colab": {
          "base_uri": "https://localhost:8080/",
          "height": 293
        }
      },
      "execution_count": 29,
      "outputs": [
        {
          "output_type": "execute_result",
          "data": {
            "text/plain": [
              "                     hashtags  tweet_id  \\\n",
              "0                          []  0x2d34ef   \n",
              "1                     [baduy]  0x27c05d   \n",
              "2          [notetaking, tips]  0x33cde7   \n",
              "3  [either, feeling, nations]  0x298606   \n",
              "4                    [coffee]  0x340b85   \n",
              "\n",
              "                                                text  \\\n",
              "0  ppl on my snap really be in a different state ...   \n",
              "1  @aam_offshore @FSTopacio Haha just shows how u...   \n",
              "2  Any tips on becoming a better notetaker? Askin...   \n",
              "3  And I am not <LH> #either <LH>  #feeling <LH> ...   \n",
              "4  I am so excited!!! Had a wonderful surprise fr...   \n",
              "\n",
              "                                 pre_processing_text  \\\n",
              "0  ppl my snap really be a different state rn tra...   \n",
              "1  aamoffshore fstopacio haha just shows how unpr...   \n",
              "2  any tips becoming a better notetaker? asking a...   \n",
              "3                    i am not either feeling nations   \n",
              "4  i am so excited!!! had a wonderful surprise fr...   \n",
              "\n",
              "                                              tokens  \n",
              "0  [ppl, my, snap, really, be, a, different, stat...  \n",
              "1  [aamoffshore, fstopacio, haha, just, shows, ho...  \n",
              "2  [any, tips, becoming, a, better, notetaker, ?,...  \n",
              "3             [i, am, not, either, feeling, nations]  \n",
              "4  [i, am, so, excited, !, !, !, had, a, wonderfu...  "
            ],
            "text/html": [
              "\n",
              "  <div id=\"df-7d2f4278-1bb2-4adc-b9af-9943ff03af04\" class=\"colab-df-container\">\n",
              "    <div>\n",
              "<style scoped>\n",
              "    .dataframe tbody tr th:only-of-type {\n",
              "        vertical-align: middle;\n",
              "    }\n",
              "\n",
              "    .dataframe tbody tr th {\n",
              "        vertical-align: top;\n",
              "    }\n",
              "\n",
              "    .dataframe thead th {\n",
              "        text-align: right;\n",
              "    }\n",
              "</style>\n",
              "<table border=\"1\" class=\"dataframe\">\n",
              "  <thead>\n",
              "    <tr style=\"text-align: right;\">\n",
              "      <th></th>\n",
              "      <th>hashtags</th>\n",
              "      <th>tweet_id</th>\n",
              "      <th>text</th>\n",
              "      <th>pre_processing_text</th>\n",
              "      <th>tokens</th>\n",
              "    </tr>\n",
              "  </thead>\n",
              "  <tbody>\n",
              "    <tr>\n",
              "      <th>0</th>\n",
              "      <td>[]</td>\n",
              "      <td>0x2d34ef</td>\n",
              "      <td>ppl on my snap really be in a different state ...</td>\n",
              "      <td>ppl my snap really be a different state rn tra...</td>\n",
              "      <td>[ppl, my, snap, really, be, a, different, stat...</td>\n",
              "    </tr>\n",
              "    <tr>\n",
              "      <th>1</th>\n",
              "      <td>[baduy]</td>\n",
              "      <td>0x27c05d</td>\n",
              "      <td>@aam_offshore @FSTopacio Haha just shows how u...</td>\n",
              "      <td>aamoffshore fstopacio haha just shows how unpr...</td>\n",
              "      <td>[aamoffshore, fstopacio, haha, just, shows, ho...</td>\n",
              "    </tr>\n",
              "    <tr>\n",
              "      <th>2</th>\n",
              "      <td>[notetaking, tips]</td>\n",
              "      <td>0x33cde7</td>\n",
              "      <td>Any tips on becoming a better notetaker? Askin...</td>\n",
              "      <td>any tips becoming a better notetaker? asking a...</td>\n",
              "      <td>[any, tips, becoming, a, better, notetaker, ?,...</td>\n",
              "    </tr>\n",
              "    <tr>\n",
              "      <th>3</th>\n",
              "      <td>[either, feeling, nations]</td>\n",
              "      <td>0x298606</td>\n",
              "      <td>And I am not &lt;LH&gt; #either &lt;LH&gt;  #feeling &lt;LH&gt; ...</td>\n",
              "      <td>i am not either feeling nations</td>\n",
              "      <td>[i, am, not, either, feeling, nations]</td>\n",
              "    </tr>\n",
              "    <tr>\n",
              "      <th>4</th>\n",
              "      <td>[coffee]</td>\n",
              "      <td>0x340b85</td>\n",
              "      <td>I am so excited!!! Had a wonderful surprise fr...</td>\n",
              "      <td>i am so excited!!! had a wonderful surprise fr...</td>\n",
              "      <td>[i, am, so, excited, !, !, !, had, a, wonderfu...</td>\n",
              "    </tr>\n",
              "  </tbody>\n",
              "</table>\n",
              "</div>\n",
              "    <div class=\"colab-df-buttons\">\n",
              "\n",
              "  <div class=\"colab-df-container\">\n",
              "    <button class=\"colab-df-convert\" onclick=\"convertToInteractive('df-7d2f4278-1bb2-4adc-b9af-9943ff03af04')\"\n",
              "            title=\"Convert this dataframe to an interactive table.\"\n",
              "            style=\"display:none;\">\n",
              "\n",
              "  <svg xmlns=\"http://www.w3.org/2000/svg\" height=\"24px\" viewBox=\"0 -960 960 960\">\n",
              "    <path d=\"M120-120v-720h720v720H120Zm60-500h600v-160H180v160Zm220 220h160v-160H400v160Zm0 220h160v-160H400v160ZM180-400h160v-160H180v160Zm440 0h160v-160H620v160ZM180-180h160v-160H180v160Zm440 0h160v-160H620v160Z\"/>\n",
              "  </svg>\n",
              "    </button>\n",
              "\n",
              "  <style>\n",
              "    .colab-df-container {\n",
              "      display:flex;\n",
              "      gap: 12px;\n",
              "    }\n",
              "\n",
              "    .colab-df-convert {\n",
              "      background-color: #E8F0FE;\n",
              "      border: none;\n",
              "      border-radius: 50%;\n",
              "      cursor: pointer;\n",
              "      display: none;\n",
              "      fill: #1967D2;\n",
              "      height: 32px;\n",
              "      padding: 0 0 0 0;\n",
              "      width: 32px;\n",
              "    }\n",
              "\n",
              "    .colab-df-convert:hover {\n",
              "      background-color: #E2EBFA;\n",
              "      box-shadow: 0px 1px 2px rgba(60, 64, 67, 0.3), 0px 1px 3px 1px rgba(60, 64, 67, 0.15);\n",
              "      fill: #174EA6;\n",
              "    }\n",
              "\n",
              "    .colab-df-buttons div {\n",
              "      margin-bottom: 4px;\n",
              "    }\n",
              "\n",
              "    [theme=dark] .colab-df-convert {\n",
              "      background-color: #3B4455;\n",
              "      fill: #D2E3FC;\n",
              "    }\n",
              "\n",
              "    [theme=dark] .colab-df-convert:hover {\n",
              "      background-color: #434B5C;\n",
              "      box-shadow: 0px 1px 3px 1px rgba(0, 0, 0, 0.15);\n",
              "      filter: drop-shadow(0px 1px 2px rgba(0, 0, 0, 0.3));\n",
              "      fill: #FFFFFF;\n",
              "    }\n",
              "  </style>\n",
              "\n",
              "    <script>\n",
              "      const buttonEl =\n",
              "        document.querySelector('#df-7d2f4278-1bb2-4adc-b9af-9943ff03af04 button.colab-df-convert');\n",
              "      buttonEl.style.display =\n",
              "        google.colab.kernel.accessAllowed ? 'block' : 'none';\n",
              "\n",
              "      async function convertToInteractive(key) {\n",
              "        const element = document.querySelector('#df-7d2f4278-1bb2-4adc-b9af-9943ff03af04');\n",
              "        const dataTable =\n",
              "          await google.colab.kernel.invokeFunction('convertToInteractive',\n",
              "                                                    [key], {});\n",
              "        if (!dataTable) return;\n",
              "\n",
              "        const docLinkHtml = 'Like what you see? Visit the ' +\n",
              "          '<a target=\"_blank\" href=https://colab.research.google.com/notebooks/data_table.ipynb>data table notebook</a>'\n",
              "          + ' to learn more about interactive tables.';\n",
              "        element.innerHTML = '';\n",
              "        dataTable['output_type'] = 'display_data';\n",
              "        await google.colab.output.renderOutput(dataTable, element);\n",
              "        const docLink = document.createElement('div');\n",
              "        docLink.innerHTML = docLinkHtml;\n",
              "        element.appendChild(docLink);\n",
              "      }\n",
              "    </script>\n",
              "  </div>\n",
              "\n",
              "\n",
              "<div id=\"df-f02d1136-75c5-4937-ad99-ef25ee9012ce\">\n",
              "  <button class=\"colab-df-quickchart\" onclick=\"quickchart('df-f02d1136-75c5-4937-ad99-ef25ee9012ce')\"\n",
              "            title=\"Suggest charts\"\n",
              "            style=\"display:none;\">\n",
              "\n",
              "<svg xmlns=\"http://www.w3.org/2000/svg\" height=\"24px\"viewBox=\"0 0 24 24\"\n",
              "     width=\"24px\">\n",
              "    <g>\n",
              "        <path d=\"M19 3H5c-1.1 0-2 .9-2 2v14c0 1.1.9 2 2 2h14c1.1 0 2-.9 2-2V5c0-1.1-.9-2-2-2zM9 17H7v-7h2v7zm4 0h-2V7h2v10zm4 0h-2v-4h2v4z\"/>\n",
              "    </g>\n",
              "</svg>\n",
              "  </button>\n",
              "\n",
              "<style>\n",
              "  .colab-df-quickchart {\n",
              "      --bg-color: #E8F0FE;\n",
              "      --fill-color: #1967D2;\n",
              "      --hover-bg-color: #E2EBFA;\n",
              "      --hover-fill-color: #174EA6;\n",
              "      --disabled-fill-color: #AAA;\n",
              "      --disabled-bg-color: #DDD;\n",
              "  }\n",
              "\n",
              "  [theme=dark] .colab-df-quickchart {\n",
              "      --bg-color: #3B4455;\n",
              "      --fill-color: #D2E3FC;\n",
              "      --hover-bg-color: #434B5C;\n",
              "      --hover-fill-color: #FFFFFF;\n",
              "      --disabled-bg-color: #3B4455;\n",
              "      --disabled-fill-color: #666;\n",
              "  }\n",
              "\n",
              "  .colab-df-quickchart {\n",
              "    background-color: var(--bg-color);\n",
              "    border: none;\n",
              "    border-radius: 50%;\n",
              "    cursor: pointer;\n",
              "    display: none;\n",
              "    fill: var(--fill-color);\n",
              "    height: 32px;\n",
              "    padding: 0;\n",
              "    width: 32px;\n",
              "  }\n",
              "\n",
              "  .colab-df-quickchart:hover {\n",
              "    background-color: var(--hover-bg-color);\n",
              "    box-shadow: 0 1px 2px rgba(60, 64, 67, 0.3), 0 1px 3px 1px rgba(60, 64, 67, 0.15);\n",
              "    fill: var(--button-hover-fill-color);\n",
              "  }\n",
              "\n",
              "  .colab-df-quickchart-complete:disabled,\n",
              "  .colab-df-quickchart-complete:disabled:hover {\n",
              "    background-color: var(--disabled-bg-color);\n",
              "    fill: var(--disabled-fill-color);\n",
              "    box-shadow: none;\n",
              "  }\n",
              "\n",
              "  .colab-df-spinner {\n",
              "    border: 2px solid var(--fill-color);\n",
              "    border-color: transparent;\n",
              "    border-bottom-color: var(--fill-color);\n",
              "    animation:\n",
              "      spin 1s steps(1) infinite;\n",
              "  }\n",
              "\n",
              "  @keyframes spin {\n",
              "    0% {\n",
              "      border-color: transparent;\n",
              "      border-bottom-color: var(--fill-color);\n",
              "      border-left-color: var(--fill-color);\n",
              "    }\n",
              "    20% {\n",
              "      border-color: transparent;\n",
              "      border-left-color: var(--fill-color);\n",
              "      border-top-color: var(--fill-color);\n",
              "    }\n",
              "    30% {\n",
              "      border-color: transparent;\n",
              "      border-left-color: var(--fill-color);\n",
              "      border-top-color: var(--fill-color);\n",
              "      border-right-color: var(--fill-color);\n",
              "    }\n",
              "    40% {\n",
              "      border-color: transparent;\n",
              "      border-right-color: var(--fill-color);\n",
              "      border-top-color: var(--fill-color);\n",
              "    }\n",
              "    60% {\n",
              "      border-color: transparent;\n",
              "      border-right-color: var(--fill-color);\n",
              "    }\n",
              "    80% {\n",
              "      border-color: transparent;\n",
              "      border-right-color: var(--fill-color);\n",
              "      border-bottom-color: var(--fill-color);\n",
              "    }\n",
              "    90% {\n",
              "      border-color: transparent;\n",
              "      border-bottom-color: var(--fill-color);\n",
              "    }\n",
              "  }\n",
              "</style>\n",
              "\n",
              "  <script>\n",
              "    async function quickchart(key) {\n",
              "      const quickchartButtonEl =\n",
              "        document.querySelector('#' + key + ' button');\n",
              "      quickchartButtonEl.disabled = true;  // To prevent multiple clicks.\n",
              "      quickchartButtonEl.classList.add('colab-df-spinner');\n",
              "      try {\n",
              "        const charts = await google.colab.kernel.invokeFunction(\n",
              "            'suggestCharts', [key], {});\n",
              "      } catch (error) {\n",
              "        console.error('Error during call to suggestCharts:', error);\n",
              "      }\n",
              "      quickchartButtonEl.classList.remove('colab-df-spinner');\n",
              "      quickchartButtonEl.classList.add('colab-df-quickchart-complete');\n",
              "    }\n",
              "    (() => {\n",
              "      let quickchartButtonEl =\n",
              "        document.querySelector('#df-f02d1136-75c5-4937-ad99-ef25ee9012ce button');\n",
              "      quickchartButtonEl.style.display =\n",
              "        google.colab.kernel.accessAllowed ? 'block' : 'none';\n",
              "    })();\n",
              "  </script>\n",
              "</div>\n",
              "\n",
              "    </div>\n",
              "  </div>\n"
            ],
            "application/vnd.google.colaboratory.intrinsic+json": {
              "type": "dataframe",
              "variable_name": "x_train"
            }
          },
          "metadata": {},
          "execution_count": 29
        }
      ]
    },
    {
      "cell_type": "markdown",
      "source": [
        "- TFIDF"
      ],
      "metadata": {
        "id": "xkeXJkOGhmsC"
      }
    },
    {
      "cell_type": "code",
      "source": [
        "# tweet_tokenizer = nltk.tokenize.TweetTokenizer() # 本來有用 max_df=0.9, tokenizer = tweet_tokenizer.tokenize\n",
        "TF_IDF_vectorizer = TfidfVectorizer(max_features=1100) # 3000 2500 2000 都會爆\n",
        "output_vectorizer = TF_IDF_vectorizer.fit_transform(x_train.text.values)  # fit + transform"
      ],
      "metadata": {
        "id": "dfxtlnS5KBrg"
      },
      "execution_count": 32,
      "outputs": []
    },
    {
      "cell_type": "code",
      "source": [
        "output_vectorizer_test = TF_IDF_vectorizer.transform(x_test.text.values)  # only transform"
      ],
      "metadata": {
        "id": "DsfWcyxLoJAU"
      },
      "execution_count": 17,
      "outputs": []
    },
    {
      "cell_type": "code",
      "source": [
        "output_vectorizer_true_test = TF_IDF_vectorizer.transform(testing_data.text.values)  # only transform"
      ],
      "metadata": {
        "id": "rFawxeGZnOs1"
      },
      "execution_count": 33,
      "outputs": []
    },
    {
      "cell_type": "code",
      "source": [
        "# 寫出\n",
        "\n",
        "#訓練+測試\n",
        "with open('/content/drive/MyDrive/Data_Lab2_HW/tf-idf-trained.pkl', 'wb') as file:  # 'wb' 表示以二進位寫入模式\n",
        "    pickle.dump([TF_IDF_vectorizer, output_vectorizer, y_train, output_vectorizer_test, y_test], file)\n",
        "\n",
        "# 真正測試資料\n",
        "with open('/content/drive/MyDrive/Data_Lab2_HW/testing_data.pkl', 'wb') as file:  # 'wb' 表示以二進位寫入模式\n",
        "    pickle.dump([testing_data, output_vectorizer_true_test], file)\n"
      ],
      "metadata": {
        "id": "ZvIwAKl-nkeS"
      },
      "execution_count": 42,
      "outputs": []
    },
    {
      "cell_type": "code",
      "source": [
        "#讀入\n",
        "\n",
        "with open('/content/drive/MyDrive/Data_Lab2_HW/tf-idf-trained.pkl', 'rb') as file:  # 'rb' 表示以二進位讀取模式\n",
        "    tfidf_list = pickle.load(file)\n",
        "\n",
        "with open('/content/drive/MyDrive/Data_Lab2_HW/testing_data.pkl', 'rb') as file:  # 'rb' 表示以二進位讀取模式\n",
        "    testing_list = pickle.load(file)"
      ],
      "metadata": {
        "id": "SUp1uHJvViq5"
      },
      "execution_count": 2,
      "outputs": []
    },
    {
      "cell_type": "code",
      "source": [
        "X = tfidf_list[1]\n",
        "y_train = tfidf_list[2].values"
      ],
      "metadata": {
        "id": "RxXT-MxQou83"
      },
      "execution_count": 44,
      "outputs": []
    },
    {
      "cell_type": "code",
      "source": [
        "model = RandomForestClassifier()\n",
        "\n",
        "## training!\n",
        "DT_model = model.fit(output_vectorizer, y_train)\n",
        "\n",
        "## predict! training"
      ],
      "metadata": {
        "id": "gNGYxGzKLtw3"
      },
      "execution_count": 34,
      "outputs": []
    },
    {
      "cell_type": "code",
      "source": [
        "from joblib import dump, load"
      ],
      "metadata": {
        "id": "1lOFT0__OWBX"
      },
      "execution_count": 6,
      "outputs": []
    },
    {
      "cell_type": "code",
      "source": [
        "# 寫出模型\n",
        "dump(DT_model, '/content/drive/MyDrive/Data_Lab2_HW/random_forest_3000.joblib')  # 儲存模型"
      ],
      "metadata": {
        "id": "N2fVs0lILHxJ",
        "outputId": "09d503d5-12f3-4800-846b-1fd6451640bc",
        "colab": {
          "base_uri": "https://localhost:8080/"
        }
      },
      "execution_count": 7,
      "outputs": [
        {
          "output_type": "execute_result",
          "data": {
            "text/plain": [
              "['/content/drive/MyDrive/Data_Lab2_HW/random_forest_3000.joblib']"
            ]
          },
          "metadata": {},
          "execution_count": 7
        }
      ]
    },
    {
      "cell_type": "code",
      "source": [
        "# 讀入模型\n",
        "DT_model = load('/content/drive/MyDrive/Data_Lab2_HW/random_forest.joblib')"
      ],
      "metadata": {
        "id": "aXN6OIqqO9FW"
      },
      "execution_count": null,
      "outputs": []
    },
    {
      "cell_type": "code",
      "source": [
        "y_train_pred = DT_model.predict(X)"
      ],
      "metadata": {
        "id": "FOavcjbZnds7"
      },
      "execution_count": 47,
      "outputs": []
    },
    {
      "cell_type": "code",
      "source": [
        "## Training Accuracy\n",
        "\n",
        "acc_train = accuracy_score(y_true=y_train, y_pred=y_train_pred)\n",
        "\n",
        "print('training accuracy: {}'.format(round(acc_train, 2)))"
      ],
      "metadata": {
        "colab": {
          "base_uri": "https://localhost:8080/"
        },
        "id": "W7iDCh66MXKD",
        "outputId": "0df555ff-5c4b-4120-b678-304ac4c974bc"
      },
      "execution_count": 48,
      "outputs": [
        {
          "output_type": "stream",
          "name": "stdout",
          "text": [
            "training accuracy: 0.98\n"
          ]
        }
      ]
    },
    {
      "cell_type": "code",
      "source": [
        "X = tfidf_list[3]"
      ],
      "metadata": {
        "id": "CnaYfdzO7MAy"
      },
      "execution_count": 49,
      "outputs": []
    },
    {
      "cell_type": "code",
      "source": [
        "X.shape"
      ],
      "metadata": {
        "id": "_Vh5gi63M9wL",
        "outputId": "d6dba327-42ce-4675-cb08-41427aae45c4",
        "colab": {
          "base_uri": "https://localhost:8080/"
        }
      },
      "execution_count": 50,
      "outputs": [
        {
          "output_type": "execute_result",
          "data": {
            "text/plain": [
              "(87334, 3000)"
            ]
          },
          "metadata": {},
          "execution_count": 50
        }
      ]
    },
    {
      "cell_type": "code",
      "source": [
        "# Mini-Testing\n",
        "# output_vectorizer_testing = TF_IDF_vectorizer.fit_transform(mini_X_test['preprocess_text'])\n",
        "\n",
        "# Predict Mini-Testing (by Random Forest)\n",
        "y_test_result = DT_model.predict(X)\n",
        "\n",
        "acc_train = accuracy_score(y_true=tfidf_list[4].values, y_pred=y_test_result)\n",
        "\n",
        "print('Mini-testing accuracy: {}'.format(round(acc_train, 2)))"
      ],
      "metadata": {
        "colab": {
          "base_uri": "https://localhost:8080/"
        },
        "id": "ocdsU-ioMpH8",
        "outputId": "1c6bda5a-c71a-47b3-91fe-8ae15d3fb40f"
      },
      "execution_count": 51,
      "outputs": [
        {
          "output_type": "stream",
          "name": "stdout",
          "text": [
            "Mini-testing accuracy: 0.5\n"
          ]
        }
      ]
    },
    {
      "cell_type": "code",
      "source": [
        "DT_model = load('/content/drive/MyDrive/Data_Lab2_HW/random_forest.joblib')"
      ],
      "metadata": {
        "id": "6zffER9I9isn"
      },
      "execution_count": null,
      "outputs": []
    },
    {
      "cell_type": "code",
      "source": [
        "testing_data = testing_list[0]\n",
        "testing_data.head(5)"
      ],
      "metadata": {
        "colab": {
          "base_uri": "https://localhost:8080/",
          "height": 206
        },
        "id": "yL02HbG099sq",
        "outputId": "5a563698-9bb3-4e26-d6d7-a9df32f7981b"
      },
      "execution_count": 12,
      "outputs": [
        {
          "output_type": "execute_result",
          "data": {
            "text/plain": [
              "   tweet_id                                    preprocess_text\n",
              "0  0x1c7f0f         jzed while inappropri af he like wasnt kid\n",
              "1  0x1c7f12  i tri figur out whi you mean so much me i coul...\n",
              "2  0x1c7f13  onli “ big plan ” you ever had your life wa pr...\n",
              "3  0x1c7f17  look back situat old new recent or whateverpeo...\n",
              "4  0x1c7f18  jasoninthehous whi do you insist talk about cl..."
            ],
            "text/html": [
              "\n",
              "  <div id=\"df-73fd2faa-21e2-4a6f-888a-8f2355fb024e\" class=\"colab-df-container\">\n",
              "    <div>\n",
              "<style scoped>\n",
              "    .dataframe tbody tr th:only-of-type {\n",
              "        vertical-align: middle;\n",
              "    }\n",
              "\n",
              "    .dataframe tbody tr th {\n",
              "        vertical-align: top;\n",
              "    }\n",
              "\n",
              "    .dataframe thead th {\n",
              "        text-align: right;\n",
              "    }\n",
              "</style>\n",
              "<table border=\"1\" class=\"dataframe\">\n",
              "  <thead>\n",
              "    <tr style=\"text-align: right;\">\n",
              "      <th></th>\n",
              "      <th>tweet_id</th>\n",
              "      <th>preprocess_text</th>\n",
              "    </tr>\n",
              "  </thead>\n",
              "  <tbody>\n",
              "    <tr>\n",
              "      <th>0</th>\n",
              "      <td>0x1c7f0f</td>\n",
              "      <td>jzed while inappropri af he like wasnt kid</td>\n",
              "    </tr>\n",
              "    <tr>\n",
              "      <th>1</th>\n",
              "      <td>0x1c7f12</td>\n",
              "      <td>i tri figur out whi you mean so much me i coul...</td>\n",
              "    </tr>\n",
              "    <tr>\n",
              "      <th>2</th>\n",
              "      <td>0x1c7f13</td>\n",
              "      <td>onli “ big plan ” you ever had your life wa pr...</td>\n",
              "    </tr>\n",
              "    <tr>\n",
              "      <th>3</th>\n",
              "      <td>0x1c7f17</td>\n",
              "      <td>look back situat old new recent or whateverpeo...</td>\n",
              "    </tr>\n",
              "    <tr>\n",
              "      <th>4</th>\n",
              "      <td>0x1c7f18</td>\n",
              "      <td>jasoninthehous whi do you insist talk about cl...</td>\n",
              "    </tr>\n",
              "  </tbody>\n",
              "</table>\n",
              "</div>\n",
              "    <div class=\"colab-df-buttons\">\n",
              "\n",
              "  <div class=\"colab-df-container\">\n",
              "    <button class=\"colab-df-convert\" onclick=\"convertToInteractive('df-73fd2faa-21e2-4a6f-888a-8f2355fb024e')\"\n",
              "            title=\"Convert this dataframe to an interactive table.\"\n",
              "            style=\"display:none;\">\n",
              "\n",
              "  <svg xmlns=\"http://www.w3.org/2000/svg\" height=\"24px\" viewBox=\"0 -960 960 960\">\n",
              "    <path d=\"M120-120v-720h720v720H120Zm60-500h600v-160H180v160Zm220 220h160v-160H400v160Zm0 220h160v-160H400v160ZM180-400h160v-160H180v160Zm440 0h160v-160H620v160ZM180-180h160v-160H180v160Zm440 0h160v-160H620v160Z\"/>\n",
              "  </svg>\n",
              "    </button>\n",
              "\n",
              "  <style>\n",
              "    .colab-df-container {\n",
              "      display:flex;\n",
              "      gap: 12px;\n",
              "    }\n",
              "\n",
              "    .colab-df-convert {\n",
              "      background-color: #E8F0FE;\n",
              "      border: none;\n",
              "      border-radius: 50%;\n",
              "      cursor: pointer;\n",
              "      display: none;\n",
              "      fill: #1967D2;\n",
              "      height: 32px;\n",
              "      padding: 0 0 0 0;\n",
              "      width: 32px;\n",
              "    }\n",
              "\n",
              "    .colab-df-convert:hover {\n",
              "      background-color: #E2EBFA;\n",
              "      box-shadow: 0px 1px 2px rgba(60, 64, 67, 0.3), 0px 1px 3px 1px rgba(60, 64, 67, 0.15);\n",
              "      fill: #174EA6;\n",
              "    }\n",
              "\n",
              "    .colab-df-buttons div {\n",
              "      margin-bottom: 4px;\n",
              "    }\n",
              "\n",
              "    [theme=dark] .colab-df-convert {\n",
              "      background-color: #3B4455;\n",
              "      fill: #D2E3FC;\n",
              "    }\n",
              "\n",
              "    [theme=dark] .colab-df-convert:hover {\n",
              "      background-color: #434B5C;\n",
              "      box-shadow: 0px 1px 3px 1px rgba(0, 0, 0, 0.15);\n",
              "      filter: drop-shadow(0px 1px 2px rgba(0, 0, 0, 0.3));\n",
              "      fill: #FFFFFF;\n",
              "    }\n",
              "  </style>\n",
              "\n",
              "    <script>\n",
              "      const buttonEl =\n",
              "        document.querySelector('#df-73fd2faa-21e2-4a6f-888a-8f2355fb024e button.colab-df-convert');\n",
              "      buttonEl.style.display =\n",
              "        google.colab.kernel.accessAllowed ? 'block' : 'none';\n",
              "\n",
              "      async function convertToInteractive(key) {\n",
              "        const element = document.querySelector('#df-73fd2faa-21e2-4a6f-888a-8f2355fb024e');\n",
              "        const dataTable =\n",
              "          await google.colab.kernel.invokeFunction('convertToInteractive',\n",
              "                                                    [key], {});\n",
              "        if (!dataTable) return;\n",
              "\n",
              "        const docLinkHtml = 'Like what you see? Visit the ' +\n",
              "          '<a target=\"_blank\" href=https://colab.research.google.com/notebooks/data_table.ipynb>data table notebook</a>'\n",
              "          + ' to learn more about interactive tables.';\n",
              "        element.innerHTML = '';\n",
              "        dataTable['output_type'] = 'display_data';\n",
              "        await google.colab.output.renderOutput(dataTable, element);\n",
              "        const docLink = document.createElement('div');\n",
              "        docLink.innerHTML = docLinkHtml;\n",
              "        element.appendChild(docLink);\n",
              "      }\n",
              "    </script>\n",
              "  </div>\n",
              "\n",
              "\n",
              "<div id=\"df-21ec1b81-a3b5-4e28-a7cd-52689b4c1e9d\">\n",
              "  <button class=\"colab-df-quickchart\" onclick=\"quickchart('df-21ec1b81-a3b5-4e28-a7cd-52689b4c1e9d')\"\n",
              "            title=\"Suggest charts\"\n",
              "            style=\"display:none;\">\n",
              "\n",
              "<svg xmlns=\"http://www.w3.org/2000/svg\" height=\"24px\"viewBox=\"0 0 24 24\"\n",
              "     width=\"24px\">\n",
              "    <g>\n",
              "        <path d=\"M19 3H5c-1.1 0-2 .9-2 2v14c0 1.1.9 2 2 2h14c1.1 0 2-.9 2-2V5c0-1.1-.9-2-2-2zM9 17H7v-7h2v7zm4 0h-2V7h2v10zm4 0h-2v-4h2v4z\"/>\n",
              "    </g>\n",
              "</svg>\n",
              "  </button>\n",
              "\n",
              "<style>\n",
              "  .colab-df-quickchart {\n",
              "      --bg-color: #E8F0FE;\n",
              "      --fill-color: #1967D2;\n",
              "      --hover-bg-color: #E2EBFA;\n",
              "      --hover-fill-color: #174EA6;\n",
              "      --disabled-fill-color: #AAA;\n",
              "      --disabled-bg-color: #DDD;\n",
              "  }\n",
              "\n",
              "  [theme=dark] .colab-df-quickchart {\n",
              "      --bg-color: #3B4455;\n",
              "      --fill-color: #D2E3FC;\n",
              "      --hover-bg-color: #434B5C;\n",
              "      --hover-fill-color: #FFFFFF;\n",
              "      --disabled-bg-color: #3B4455;\n",
              "      --disabled-fill-color: #666;\n",
              "  }\n",
              "\n",
              "  .colab-df-quickchart {\n",
              "    background-color: var(--bg-color);\n",
              "    border: none;\n",
              "    border-radius: 50%;\n",
              "    cursor: pointer;\n",
              "    display: none;\n",
              "    fill: var(--fill-color);\n",
              "    height: 32px;\n",
              "    padding: 0;\n",
              "    width: 32px;\n",
              "  }\n",
              "\n",
              "  .colab-df-quickchart:hover {\n",
              "    background-color: var(--hover-bg-color);\n",
              "    box-shadow: 0 1px 2px rgba(60, 64, 67, 0.3), 0 1px 3px 1px rgba(60, 64, 67, 0.15);\n",
              "    fill: var(--button-hover-fill-color);\n",
              "  }\n",
              "\n",
              "  .colab-df-quickchart-complete:disabled,\n",
              "  .colab-df-quickchart-complete:disabled:hover {\n",
              "    background-color: var(--disabled-bg-color);\n",
              "    fill: var(--disabled-fill-color);\n",
              "    box-shadow: none;\n",
              "  }\n",
              "\n",
              "  .colab-df-spinner {\n",
              "    border: 2px solid var(--fill-color);\n",
              "    border-color: transparent;\n",
              "    border-bottom-color: var(--fill-color);\n",
              "    animation:\n",
              "      spin 1s steps(1) infinite;\n",
              "  }\n",
              "\n",
              "  @keyframes spin {\n",
              "    0% {\n",
              "      border-color: transparent;\n",
              "      border-bottom-color: var(--fill-color);\n",
              "      border-left-color: var(--fill-color);\n",
              "    }\n",
              "    20% {\n",
              "      border-color: transparent;\n",
              "      border-left-color: var(--fill-color);\n",
              "      border-top-color: var(--fill-color);\n",
              "    }\n",
              "    30% {\n",
              "      border-color: transparent;\n",
              "      border-left-color: var(--fill-color);\n",
              "      border-top-color: var(--fill-color);\n",
              "      border-right-color: var(--fill-color);\n",
              "    }\n",
              "    40% {\n",
              "      border-color: transparent;\n",
              "      border-right-color: var(--fill-color);\n",
              "      border-top-color: var(--fill-color);\n",
              "    }\n",
              "    60% {\n",
              "      border-color: transparent;\n",
              "      border-right-color: var(--fill-color);\n",
              "    }\n",
              "    80% {\n",
              "      border-color: transparent;\n",
              "      border-right-color: var(--fill-color);\n",
              "      border-bottom-color: var(--fill-color);\n",
              "    }\n",
              "    90% {\n",
              "      border-color: transparent;\n",
              "      border-bottom-color: var(--fill-color);\n",
              "    }\n",
              "  }\n",
              "</style>\n",
              "\n",
              "  <script>\n",
              "    async function quickchart(key) {\n",
              "      const quickchartButtonEl =\n",
              "        document.querySelector('#' + key + ' button');\n",
              "      quickchartButtonEl.disabled = true;  // To prevent multiple clicks.\n",
              "      quickchartButtonEl.classList.add('colab-df-spinner');\n",
              "      try {\n",
              "        const charts = await google.colab.kernel.invokeFunction(\n",
              "            'suggestCharts', [key], {});\n",
              "      } catch (error) {\n",
              "        console.error('Error during call to suggestCharts:', error);\n",
              "      }\n",
              "      quickchartButtonEl.classList.remove('colab-df-spinner');\n",
              "      quickchartButtonEl.classList.add('colab-df-quickchart-complete');\n",
              "    }\n",
              "    (() => {\n",
              "      let quickchartButtonEl =\n",
              "        document.querySelector('#df-21ec1b81-a3b5-4e28-a7cd-52689b4c1e9d button');\n",
              "      quickchartButtonEl.style.display =\n",
              "        google.colab.kernel.accessAllowed ? 'block' : 'none';\n",
              "    })();\n",
              "  </script>\n",
              "</div>\n",
              "\n",
              "    </div>\n",
              "  </div>\n"
            ],
            "application/vnd.google.colaboratory.intrinsic+json": {
              "type": "dataframe",
              "variable_name": "testing_data"
            }
          },
          "metadata": {},
          "execution_count": 12
        }
      ]
    },
    {
      "cell_type": "code",
      "source": [
        "X = testing_list[1]"
      ],
      "metadata": {
        "id": "YXr_ctZrNvF1"
      },
      "execution_count": 13,
      "outputs": []
    },
    {
      "cell_type": "code",
      "source": [
        "output_vectorizer_true_test.shape"
      ],
      "metadata": {
        "colab": {
          "base_uri": "https://localhost:8080/"
        },
        "id": "pgLHz-IQCPbk",
        "outputId": "7259ee29-88be-43f7-9756-5f5a941db58a"
      },
      "execution_count": 35,
      "outputs": [
        {
          "output_type": "execute_result",
          "data": {
            "text/plain": [
              "(411972, 1100)"
            ]
          },
          "metadata": {},
          "execution_count": 35
        }
      ]
    },
    {
      "cell_type": "code",
      "source": [
        "y_test_result = DT_model.predict( output_vectorizer_true_test )"
      ],
      "metadata": {
        "id": "YQXq9RZiHB9s"
      },
      "execution_count": 36,
      "outputs": []
    },
    {
      "cell_type": "code",
      "source": [
        "# 寫出結果\n",
        "result = pd.DataFrame( {\n",
        "   \"id\" : testing_data.tweet_id,\n",
        "   \"emotion\" : y_test_result\n",
        "} )\n",
        "result.to_csv(\"/content/drive/MyDrive/submission_test_v8.csv\", index = 0)\n",
        "result.head(5)"
      ],
      "metadata": {
        "colab": {
          "base_uri": "https://localhost:8080/",
          "height": 206
        },
        "id": "gor8Gv6EB8zl",
        "outputId": "fc0bffd1-48db-4479-e99b-c1073b2596b5"
      },
      "execution_count": 37,
      "outputs": [
        {
          "output_type": "execute_result",
          "data": {
            "text/plain": [
              "         id  emotion\n",
              "0  0x1c7f0f      joy\n",
              "1  0x1c7f12      joy\n",
              "2  0x1c7f13      joy\n",
              "3  0x1c7f17      joy\n",
              "4  0x1c7f18  disgust"
            ],
            "text/html": [
              "\n",
              "  <div id=\"df-a42affac-ccf4-45e0-bca7-551967401c49\" class=\"colab-df-container\">\n",
              "    <div>\n",
              "<style scoped>\n",
              "    .dataframe tbody tr th:only-of-type {\n",
              "        vertical-align: middle;\n",
              "    }\n",
              "\n",
              "    .dataframe tbody tr th {\n",
              "        vertical-align: top;\n",
              "    }\n",
              "\n",
              "    .dataframe thead th {\n",
              "        text-align: right;\n",
              "    }\n",
              "</style>\n",
              "<table border=\"1\" class=\"dataframe\">\n",
              "  <thead>\n",
              "    <tr style=\"text-align: right;\">\n",
              "      <th></th>\n",
              "      <th>id</th>\n",
              "      <th>emotion</th>\n",
              "    </tr>\n",
              "  </thead>\n",
              "  <tbody>\n",
              "    <tr>\n",
              "      <th>0</th>\n",
              "      <td>0x1c7f0f</td>\n",
              "      <td>joy</td>\n",
              "    </tr>\n",
              "    <tr>\n",
              "      <th>1</th>\n",
              "      <td>0x1c7f12</td>\n",
              "      <td>joy</td>\n",
              "    </tr>\n",
              "    <tr>\n",
              "      <th>2</th>\n",
              "      <td>0x1c7f13</td>\n",
              "      <td>joy</td>\n",
              "    </tr>\n",
              "    <tr>\n",
              "      <th>3</th>\n",
              "      <td>0x1c7f17</td>\n",
              "      <td>joy</td>\n",
              "    </tr>\n",
              "    <tr>\n",
              "      <th>4</th>\n",
              "      <td>0x1c7f18</td>\n",
              "      <td>disgust</td>\n",
              "    </tr>\n",
              "  </tbody>\n",
              "</table>\n",
              "</div>\n",
              "    <div class=\"colab-df-buttons\">\n",
              "\n",
              "  <div class=\"colab-df-container\">\n",
              "    <button class=\"colab-df-convert\" onclick=\"convertToInteractive('df-a42affac-ccf4-45e0-bca7-551967401c49')\"\n",
              "            title=\"Convert this dataframe to an interactive table.\"\n",
              "            style=\"display:none;\">\n",
              "\n",
              "  <svg xmlns=\"http://www.w3.org/2000/svg\" height=\"24px\" viewBox=\"0 -960 960 960\">\n",
              "    <path d=\"M120-120v-720h720v720H120Zm60-500h600v-160H180v160Zm220 220h160v-160H400v160Zm0 220h160v-160H400v160ZM180-400h160v-160H180v160Zm440 0h160v-160H620v160ZM180-180h160v-160H180v160Zm440 0h160v-160H620v160Z\"/>\n",
              "  </svg>\n",
              "    </button>\n",
              "\n",
              "  <style>\n",
              "    .colab-df-container {\n",
              "      display:flex;\n",
              "      gap: 12px;\n",
              "    }\n",
              "\n",
              "    .colab-df-convert {\n",
              "      background-color: #E8F0FE;\n",
              "      border: none;\n",
              "      border-radius: 50%;\n",
              "      cursor: pointer;\n",
              "      display: none;\n",
              "      fill: #1967D2;\n",
              "      height: 32px;\n",
              "      padding: 0 0 0 0;\n",
              "      width: 32px;\n",
              "    }\n",
              "\n",
              "    .colab-df-convert:hover {\n",
              "      background-color: #E2EBFA;\n",
              "      box-shadow: 0px 1px 2px rgba(60, 64, 67, 0.3), 0px 1px 3px 1px rgba(60, 64, 67, 0.15);\n",
              "      fill: #174EA6;\n",
              "    }\n",
              "\n",
              "    .colab-df-buttons div {\n",
              "      margin-bottom: 4px;\n",
              "    }\n",
              "\n",
              "    [theme=dark] .colab-df-convert {\n",
              "      background-color: #3B4455;\n",
              "      fill: #D2E3FC;\n",
              "    }\n",
              "\n",
              "    [theme=dark] .colab-df-convert:hover {\n",
              "      background-color: #434B5C;\n",
              "      box-shadow: 0px 1px 3px 1px rgba(0, 0, 0, 0.15);\n",
              "      filter: drop-shadow(0px 1px 2px rgba(0, 0, 0, 0.3));\n",
              "      fill: #FFFFFF;\n",
              "    }\n",
              "  </style>\n",
              "\n",
              "    <script>\n",
              "      const buttonEl =\n",
              "        document.querySelector('#df-a42affac-ccf4-45e0-bca7-551967401c49 button.colab-df-convert');\n",
              "      buttonEl.style.display =\n",
              "        google.colab.kernel.accessAllowed ? 'block' : 'none';\n",
              "\n",
              "      async function convertToInteractive(key) {\n",
              "        const element = document.querySelector('#df-a42affac-ccf4-45e0-bca7-551967401c49');\n",
              "        const dataTable =\n",
              "          await google.colab.kernel.invokeFunction('convertToInteractive',\n",
              "                                                    [key], {});\n",
              "        if (!dataTable) return;\n",
              "\n",
              "        const docLinkHtml = 'Like what you see? Visit the ' +\n",
              "          '<a target=\"_blank\" href=https://colab.research.google.com/notebooks/data_table.ipynb>data table notebook</a>'\n",
              "          + ' to learn more about interactive tables.';\n",
              "        element.innerHTML = '';\n",
              "        dataTable['output_type'] = 'display_data';\n",
              "        await google.colab.output.renderOutput(dataTable, element);\n",
              "        const docLink = document.createElement('div');\n",
              "        docLink.innerHTML = docLinkHtml;\n",
              "        element.appendChild(docLink);\n",
              "      }\n",
              "    </script>\n",
              "  </div>\n",
              "\n",
              "\n",
              "<div id=\"df-2715b437-4370-4d05-b711-735a773783c6\">\n",
              "  <button class=\"colab-df-quickchart\" onclick=\"quickchart('df-2715b437-4370-4d05-b711-735a773783c6')\"\n",
              "            title=\"Suggest charts\"\n",
              "            style=\"display:none;\">\n",
              "\n",
              "<svg xmlns=\"http://www.w3.org/2000/svg\" height=\"24px\"viewBox=\"0 0 24 24\"\n",
              "     width=\"24px\">\n",
              "    <g>\n",
              "        <path d=\"M19 3H5c-1.1 0-2 .9-2 2v14c0 1.1.9 2 2 2h14c1.1 0 2-.9 2-2V5c0-1.1-.9-2-2-2zM9 17H7v-7h2v7zm4 0h-2V7h2v10zm4 0h-2v-4h2v4z\"/>\n",
              "    </g>\n",
              "</svg>\n",
              "  </button>\n",
              "\n",
              "<style>\n",
              "  .colab-df-quickchart {\n",
              "      --bg-color: #E8F0FE;\n",
              "      --fill-color: #1967D2;\n",
              "      --hover-bg-color: #E2EBFA;\n",
              "      --hover-fill-color: #174EA6;\n",
              "      --disabled-fill-color: #AAA;\n",
              "      --disabled-bg-color: #DDD;\n",
              "  }\n",
              "\n",
              "  [theme=dark] .colab-df-quickchart {\n",
              "      --bg-color: #3B4455;\n",
              "      --fill-color: #D2E3FC;\n",
              "      --hover-bg-color: #434B5C;\n",
              "      --hover-fill-color: #FFFFFF;\n",
              "      --disabled-bg-color: #3B4455;\n",
              "      --disabled-fill-color: #666;\n",
              "  }\n",
              "\n",
              "  .colab-df-quickchart {\n",
              "    background-color: var(--bg-color);\n",
              "    border: none;\n",
              "    border-radius: 50%;\n",
              "    cursor: pointer;\n",
              "    display: none;\n",
              "    fill: var(--fill-color);\n",
              "    height: 32px;\n",
              "    padding: 0;\n",
              "    width: 32px;\n",
              "  }\n",
              "\n",
              "  .colab-df-quickchart:hover {\n",
              "    background-color: var(--hover-bg-color);\n",
              "    box-shadow: 0 1px 2px rgba(60, 64, 67, 0.3), 0 1px 3px 1px rgba(60, 64, 67, 0.15);\n",
              "    fill: var(--button-hover-fill-color);\n",
              "  }\n",
              "\n",
              "  .colab-df-quickchart-complete:disabled,\n",
              "  .colab-df-quickchart-complete:disabled:hover {\n",
              "    background-color: var(--disabled-bg-color);\n",
              "    fill: var(--disabled-fill-color);\n",
              "    box-shadow: none;\n",
              "  }\n",
              "\n",
              "  .colab-df-spinner {\n",
              "    border: 2px solid var(--fill-color);\n",
              "    border-color: transparent;\n",
              "    border-bottom-color: var(--fill-color);\n",
              "    animation:\n",
              "      spin 1s steps(1) infinite;\n",
              "  }\n",
              "\n",
              "  @keyframes spin {\n",
              "    0% {\n",
              "      border-color: transparent;\n",
              "      border-bottom-color: var(--fill-color);\n",
              "      border-left-color: var(--fill-color);\n",
              "    }\n",
              "    20% {\n",
              "      border-color: transparent;\n",
              "      border-left-color: var(--fill-color);\n",
              "      border-top-color: var(--fill-color);\n",
              "    }\n",
              "    30% {\n",
              "      border-color: transparent;\n",
              "      border-left-color: var(--fill-color);\n",
              "      border-top-color: var(--fill-color);\n",
              "      border-right-color: var(--fill-color);\n",
              "    }\n",
              "    40% {\n",
              "      border-color: transparent;\n",
              "      border-right-color: var(--fill-color);\n",
              "      border-top-color: var(--fill-color);\n",
              "    }\n",
              "    60% {\n",
              "      border-color: transparent;\n",
              "      border-right-color: var(--fill-color);\n",
              "    }\n",
              "    80% {\n",
              "      border-color: transparent;\n",
              "      border-right-color: var(--fill-color);\n",
              "      border-bottom-color: var(--fill-color);\n",
              "    }\n",
              "    90% {\n",
              "      border-color: transparent;\n",
              "      border-bottom-color: var(--fill-color);\n",
              "    }\n",
              "  }\n",
              "</style>\n",
              "\n",
              "  <script>\n",
              "    async function quickchart(key) {\n",
              "      const quickchartButtonEl =\n",
              "        document.querySelector('#' + key + ' button');\n",
              "      quickchartButtonEl.disabled = true;  // To prevent multiple clicks.\n",
              "      quickchartButtonEl.classList.add('colab-df-spinner');\n",
              "      try {\n",
              "        const charts = await google.colab.kernel.invokeFunction(\n",
              "            'suggestCharts', [key], {});\n",
              "      } catch (error) {\n",
              "        console.error('Error during call to suggestCharts:', error);\n",
              "      }\n",
              "      quickchartButtonEl.classList.remove('colab-df-spinner');\n",
              "      quickchartButtonEl.classList.add('colab-df-quickchart-complete');\n",
              "    }\n",
              "    (() => {\n",
              "      let quickchartButtonEl =\n",
              "        document.querySelector('#df-2715b437-4370-4d05-b711-735a773783c6 button');\n",
              "      quickchartButtonEl.style.display =\n",
              "        google.colab.kernel.accessAllowed ? 'block' : 'none';\n",
              "    })();\n",
              "  </script>\n",
              "</div>\n",
              "\n",
              "    </div>\n",
              "  </div>\n"
            ],
            "application/vnd.google.colaboratory.intrinsic+json": {
              "type": "dataframe",
              "variable_name": "result"
            }
          },
          "metadata": {},
          "execution_count": 37
        }
      ]
    },
    {
      "cell_type": "markdown",
      "source": [
        "- Word2Vec"
      ],
      "metadata": {
        "id": "rvccTJ-kVM2f"
      }
    },
    {
      "cell_type": "code",
      "source": [
        "train_corpus = x_train.tokens.values"
      ],
      "metadata": {
        "id": "3ukCmcy0ttUw"
      },
      "execution_count": null,
      "outputs": []
    },
    {
      "cell_type": "code",
      "source": [
        "# Training Word2Vec\n",
        "\n",
        "from gensim.models import Word2Vec\n",
        "\n",
        "# setting\n",
        "vector_dim = 100\n",
        "window_size = 5\n",
        "min_count = 1\n",
        "training_epochs = 20\n",
        "\n",
        "word2vec_model = Word2Vec(sentences=train_corpus,\n",
        "              vector_size = vector_dim,\n",
        "              window=window_size,\n",
        "              min_count=min_count,\n",
        "              epochs=training_epochs)"
      ],
      "metadata": {
        "id": "GdtgykNnVGTj"
      },
      "execution_count": null,
      "outputs": []
    },
    {
      "cell_type": "code",
      "source": [
        "def mean_word2vec(text_list):\n",
        "  result = np.zeros(vector_dim)\n",
        "  length = len(text_list)\n",
        "  for i in text_list:\n",
        "    try:\n",
        "      result = result + word2vec_model.wv[i]\n",
        "    except KeyError as e:\n",
        "      next\n",
        "  result = result / length\n",
        "  return result"
      ],
      "metadata": {
        "id": "p7YOp3veb0d6"
      },
      "execution_count": null,
      "outputs": []
    },
    {
      "cell_type": "code",
      "source": [],
      "metadata": {
        "id": "q2Fy065kb7sw"
      },
      "execution_count": null,
      "outputs": []
    },
    {
      "cell_type": "code",
      "source": [],
      "metadata": {
        "id": "Aa6Ek52Cb8qG"
      },
      "execution_count": null,
      "outputs": []
    },
    {
      "cell_type": "code",
      "source": [
        "x_train[\"word2vec_100\"] = x_train.apply(lambda x: mean_word2vec(x['tokens']), axis = 1)"
      ],
      "metadata": {
        "id": "DyNesjSxb3jk"
      },
      "execution_count": null,
      "outputs": []
    },
    {
      "cell_type": "code",
      "source": [
        "# Training Random Forest\n",
        "\n",
        "X = list(x_train.word2vec_100.values)\n",
        "\n",
        "model = RandomForestClassifier()\n",
        "\n",
        "## training!\n",
        "DT_model = model.fit(X, y_train.values)"
      ],
      "metadata": {
        "id": "8bj7yex6b9qQ"
      },
      "execution_count": null,
      "outputs": []
    },
    {
      "cell_type": "code",
      "source": [
        "## Training Accuracy\n",
        "from sklearn.metrics import accuracy_score\n",
        "\n",
        "y_train_pred = DT_model.predict(X)\n",
        "\n",
        "acc_train = accuracy_score(y_true=y_train, y_pred=y_train_pred)\n",
        "\n",
        "print('training accuracy: {}'.format(round(acc_train, 2)))"
      ],
      "metadata": {
        "id": "ys601X3bb-jB"
      },
      "execution_count": null,
      "outputs": []
    },
    {
      "cell_type": "code",
      "source": [
        "tokens_testing = testing_data.apply(lambda x: tok.tokenize(x[\"preprocess_text\"]), axis = 1).tolist()\n",
        "testing_data[\"tokens\"] = tokens_testing"
      ],
      "metadata": {
        "id": "_okheUMqcCiA"
      },
      "execution_count": null,
      "outputs": []
    },
    {
      "cell_type": "code",
      "source": [
        "testing_data[\"word2vec_100\"] = testing_data.apply(lambda x: mean_word2vec(x['tokens']), axis = 1)"
      ],
      "metadata": {
        "id": "Xpxn0hkycFOi"
      },
      "execution_count": null,
      "outputs": []
    },
    {
      "cell_type": "code",
      "source": [
        "# Prediction\n",
        "X = list(testing_data.word2vec_100.values)\n",
        "\n",
        "y_test_result = DT_model.predict(X)\n",
        "\n",
        "result = pd.DataFrame( {\n",
        "   \"id\" : testing_data.tweet_id,\n",
        "   \"emotion\" : y_test_result\n",
        "} )\n",
        "result.to_csv(\"/content/drive/MyDrive/submission_test_v4.csv\", index = 0)\n",
        "result.head(5)"
      ],
      "metadata": {
        "id": "uI2pPcWScHn_"
      },
      "execution_count": null,
      "outputs": []
    },
    {
      "cell_type": "markdown",
      "source": [
        "結果紀錄\n",
        "- Proprocessing + TFIDF(max=0.9, 3000, tette.tokenizer) + RF 0.36895\n",
        "- TFIDF(3000) + RF 0.35301\n",
        "- Preprocessing + Word2Vec + RF 0.34046\n",
        "- TFIDF(1100) + RF 0.34696\n",
        "- Word2Vec + RF"
      ],
      "metadata": {
        "id": "eZ7VY8clrlnr"
      }
    }
  ],
  "metadata": {
    "kernelspec": {
      "display_name": "Python 3",
      "name": "python3"
    },
    "language_info": {
      "codemirror_mode": {
        "name": "ipython",
        "version": 3
      },
      "file_extension": ".py",
      "mimetype": "text/x-python",
      "name": "python",
      "nbconvert_exporter": "python",
      "pygments_lexer": "ipython3",
      "version": "3.9.6"
    },
    "varInspector": {
      "cols": {
        "lenName": 16,
        "lenType": 16,
        "lenVar": 40
      },
      "kernels_config": {
        "python": {
          "delete_cmd_postfix": "",
          "delete_cmd_prefix": "del ",
          "library": "var_list.py",
          "varRefreshCmd": "print(var_dic_list())"
        },
        "r": {
          "delete_cmd_postfix": ") ",
          "delete_cmd_prefix": "rm(",
          "library": "var_list.r",
          "varRefreshCmd": "cat(var_dic_list()) "
        }
      },
      "types_to_exclude": [
        "module",
        "function",
        "builtin_function_or_method",
        "instance",
        "_Feature"
      ],
      "window_display": false
    },
    "colab": {
      "provenance": []
    }
  },
  "nbformat": 4,
  "nbformat_minor": 0
}